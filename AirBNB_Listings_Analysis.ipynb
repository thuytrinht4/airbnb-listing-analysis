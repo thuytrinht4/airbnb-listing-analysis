{
 "cells": [
  {
   "cell_type": "markdown",
   "id": "acfc4152-581c-4edd-a126-05a8903b42b8",
   "metadata": {
    "tags": []
   },
   "source": [
    "# AirBNB Listings Analysis for Boston and Seattle\n",
    "Author: Thuy Trinh <br>\n",
    "Date: 08 Oct 2021 <br>\n",
    "\n",
    "**Objective**: explore the General characteristics for rental market in the two cities. <br>\n",
    "Key questions:\n",
    "1. What is the total number of rooms available for rent listed in AirBNB at the time of data collection? \n",
    "2. What type of rooms are offered? What are the average rental rate for each type? Which types are most popular? \n",
    "3. What are the areas where most rooms are listed for rent in each city? "
   ]
  },
  {
   "cell_type": "code",
   "execution_count": 181,
   "id": "c8087389-b3fd-48b2-9c8d-d796bcbf24c9",
   "metadata": {},
   "outputs": [],
   "source": [
    "# import packages\n",
    "import pandas as pd\n",
    "import matplotlib.pyplot as plt\n",
    "import seaborn as sns\n",
    "\n",
    "pd.options.mode.chained_assignment = None  # default='warn'"
   ]
  },
  {
   "cell_type": "code",
   "execution_count": 111,
   "id": "965adf85-c828-413a-ac82-fb86f63ce366",
   "metadata": {},
   "outputs": [],
   "source": [
    "# import data\n",
    "# boston\n",
    "calendar_b = pd.read_csv('data/raw/boston/calendar.csv')\n",
    "listings_b = pd.read_csv('data/raw/boston/listings.csv')\n",
    "reviews_b = pd.read_csv('data/raw/boston/reviews.csv')\n",
    "# seattle\n",
    "calendar_s = pd.read_csv('data/raw/seattle/calendar.csv')\n",
    "listings_s = pd.read_csv('data/raw/seattle/listings.csv')\n",
    "reviews_s = pd.read_csv('data/raw/seattle/reviews.csv')"
   ]
  },
  {
   "cell_type": "markdown",
   "id": "75dee1c3-6fbb-4dea-a739-9dccab9298f6",
   "metadata": {},
   "source": [
    "## 1. What is the total number of rooms available for rent listed in AirBNB at the time of data collection? "
   ]
  },
  {
   "cell_type": "code",
   "execution_count": 112,
   "id": "72838c90-ba93-4e10-9590-29cbc76593d4",
   "metadata": {},
   "outputs": [
    {
     "name": "stdout",
     "output_type": "stream",
     "text": [
      "As of 2021-09-19, there are 3123 rooms in Boston listed for rent in AirBNB\n",
      "As of 2021-09-25, there are 4249 rooms in Seattle listed for rent in AirBNB\n"
     ]
    }
   ],
   "source": [
    "## For Boston\n",
    "# find the time of data collection\n",
    "collection_date_b = listings_b.last_scraped.unique()[0]\n",
    "# find the total number of rooms avaiable\n",
    "nb_rooms_b = len(listings_b.id.unique())\n",
    "\n",
    "## For Seattle\n",
    "collection_date_s = listings_s.last_scraped.unique()[0]\n",
    "nb_rooms_s = len(listings_s.id.unique())\n",
    "\n",
    "## print results\n",
    "print(f'As of {collection_date_b}, there are {nb_rooms_b} rooms in Boston listed for rent in AirBNB')\n",
    "print(f'As of {collection_date_s}, there are {nb_rooms_s} rooms in Seattle listed for rent in AirBNB')"
   ]
  },
  {
   "cell_type": "code",
   "execution_count": 144,
   "id": "46ae5a7e-a7fe-4369-872e-ae1d86ffd9a8",
   "metadata": {},
   "outputs": [
    {
     "name": "stdout",
     "output_type": "stream",
     "text": [
      "There are 1126 (36.0%) more listings in Seattle than in Boston\n"
     ]
    }
   ],
   "source": [
    "print(f'There are {nb_rooms_s-nb_rooms_b} ({round((nb_rooms_s-nb_rooms_b)*100/nb_rooms_b, 0)}%) more listings in Seattle than in Boston')"
   ]
  },
  {
   "cell_type": "markdown",
   "id": "617885f9-9ca6-436a-85e5-f556ab4d586a",
   "metadata": {},
   "source": [
    "Generally speaking, there are 36% more rooms listed in Seattle than in Boston in September 2021. <br>\n",
    "Knowing that these two cities are roughly equal in size, based on the number of rooms supply available in the 2 city, we can draw an inital guess that prices in Seattle could be 30% lower than prices in Boston. <br>\n",
    "Let check this hypothesis."
   ]
  },
  {
   "cell_type": "code",
   "execution_count": null,
   "id": "657b99b5-6e5d-4549-8a9b-921812e9617c",
   "metadata": {},
   "outputs": [],
   "source": []
  },
  {
   "cell_type": "markdown",
   "id": "8ffa9845-b0bf-46fd-a16c-2150b70bc412",
   "metadata": {},
   "source": [
    "## 2. What type of rooms are offered? Which types are most popular? What are the average rental rate for each type?"
   ]
  },
  {
   "cell_type": "code",
   "execution_count": 147,
   "id": "af627dc1-7839-4a82-90ea-8fd47e90ae3a",
   "metadata": {},
   "outputs": [],
   "source": [
    "def summarize_by_room_type(df):\n",
    "    # compute number of rooms for each type and their proportions\n",
    "    room_type_count = df.room_type.value_counts()\n",
    "    room_type_props = room_type_count/df.shape[0]\n",
    "    room_type_df = pd.DataFrame([room_type_count, room_type_props], index=['count', 'propotion']).transpose()\n",
    "    \n",
    "    # compute average price per room type\n",
    "    # create new columns with `price` as numerical value by removing the $ sign\n",
    "    def _convert_text_to_float(text):\n",
    "        # removing the $ and , characters\n",
    "        currency_char = '$,'\n",
    "        for char in currency_char:\n",
    "            text = text.replace(char, '')\n",
    "        # return the text as float\n",
    "        return float(text)\n",
    "    sub_df = df[['price', 'room_type', 'beds']]\n",
    "    sub_df['price'] = sub_df['price'].apply(_convert_text_to_float)\n",
    "    room_type_price = sub_df[['room_type', 'price', 'beds']].groupby(['room_type']).mean().round(0)\n",
    "    \n",
    "    # create a final summary df with counts, percentage, average price, avergage number of beds\n",
    "    room_type_df = room_type_df.join(room_type_price)\n",
    "    \n",
    "    return room_type_df"
   ]
  },
  {
   "cell_type": "code",
   "execution_count": 226,
   "id": "e3eb06f0-b217-4fb8-81a1-808724a81f31",
   "metadata": {},
   "outputs": [
    {
     "data": {
      "text/html": [
       "<div>\n",
       "<style scoped>\n",
       "    .dataframe tbody tr th:only-of-type {\n",
       "        vertical-align: middle;\n",
       "    }\n",
       "\n",
       "    .dataframe tbody tr th {\n",
       "        vertical-align: top;\n",
       "    }\n",
       "\n",
       "    .dataframe thead th {\n",
       "        text-align: right;\n",
       "    }\n",
       "</style>\n",
       "<table border=\"1\" class=\"dataframe\">\n",
       "  <thead>\n",
       "    <tr style=\"text-align: right;\">\n",
       "      <th></th>\n",
       "      <th>count</th>\n",
       "      <th>propotion</th>\n",
       "      <th>price</th>\n",
       "      <th>beds</th>\n",
       "    </tr>\n",
       "  </thead>\n",
       "  <tbody>\n",
       "    <tr>\n",
       "      <th>Entire home/apt</th>\n",
       "      <td>1971.0</td>\n",
       "      <td>0.631124</td>\n",
       "      <td>241.0</td>\n",
       "      <td>2.0</td>\n",
       "    </tr>\n",
       "    <tr>\n",
       "      <th>Private room</th>\n",
       "      <td>1115.0</td>\n",
       "      <td>0.357028</td>\n",
       "      <td>96.0</td>\n",
       "      <td>1.0</td>\n",
       "    </tr>\n",
       "    <tr>\n",
       "      <th>Hotel room</th>\n",
       "      <td>25.0</td>\n",
       "      <td>0.008005</td>\n",
       "      <td>403.0</td>\n",
       "      <td>1.0</td>\n",
       "    </tr>\n",
       "    <tr>\n",
       "      <th>Shared room</th>\n",
       "      <td>12.0</td>\n",
       "      <td>0.003842</td>\n",
       "      <td>123.0</td>\n",
       "      <td>1.0</td>\n",
       "    </tr>\n",
       "  </tbody>\n",
       "</table>\n",
       "</div>"
      ],
      "text/plain": [
       "                  count  propotion  price  beds\n",
       "Entire home/apt  1971.0   0.631124  241.0   2.0\n",
       "Private room     1115.0   0.357028   96.0   1.0\n",
       "Hotel room         25.0   0.008005  403.0   1.0\n",
       "Shared room        12.0   0.003842  123.0   1.0"
      ]
     },
     "execution_count": 226,
     "metadata": {},
     "output_type": "execute_result"
    }
   ],
   "source": [
    "## For Boston\n",
    "room_type_b = summarize_by_room_type(listings_b)\n",
    "room_type_b"
   ]
  },
  {
   "cell_type": "code",
   "execution_count": 149,
   "id": "f3dde70e-bacb-4805-a0f9-998afec0bffa",
   "metadata": {
    "tags": []
   },
   "outputs": [
    {
     "data": {
      "text/html": [
       "<div>\n",
       "<style scoped>\n",
       "    .dataframe tbody tr th:only-of-type {\n",
       "        vertical-align: middle;\n",
       "    }\n",
       "\n",
       "    .dataframe tbody tr th {\n",
       "        vertical-align: top;\n",
       "    }\n",
       "\n",
       "    .dataframe thead th {\n",
       "        text-align: right;\n",
       "    }\n",
       "</style>\n",
       "<table border=\"1\" class=\"dataframe\">\n",
       "  <thead>\n",
       "    <tr style=\"text-align: right;\">\n",
       "      <th></th>\n",
       "      <th>count</th>\n",
       "      <th>propotion</th>\n",
       "      <th>price</th>\n",
       "      <th>beds</th>\n",
       "    </tr>\n",
       "  </thead>\n",
       "  <tbody>\n",
       "    <tr>\n",
       "      <th>Entire home/apt</th>\n",
       "      <td>3501.0</td>\n",
       "      <td>0.823959</td>\n",
       "      <td>180.0</td>\n",
       "      <td>2.0</td>\n",
       "    </tr>\n",
       "    <tr>\n",
       "      <th>Private room</th>\n",
       "      <td>703.0</td>\n",
       "      <td>0.165451</td>\n",
       "      <td>84.0</td>\n",
       "      <td>1.0</td>\n",
       "    </tr>\n",
       "    <tr>\n",
       "      <th>Shared room</th>\n",
       "      <td>42.0</td>\n",
       "      <td>0.009885</td>\n",
       "      <td>29.0</td>\n",
       "      <td>1.0</td>\n",
       "    </tr>\n",
       "    <tr>\n",
       "      <th>Hotel room</th>\n",
       "      <td>3.0</td>\n",
       "      <td>0.000706</td>\n",
       "      <td>0.0</td>\n",
       "      <td>NaN</td>\n",
       "    </tr>\n",
       "  </tbody>\n",
       "</table>\n",
       "</div>"
      ],
      "text/plain": [
       "                  count  propotion  price  beds\n",
       "Entire home/apt  3501.0   0.823959  180.0   2.0\n",
       "Private room      703.0   0.165451   84.0   1.0\n",
       "Shared room        42.0   0.009885   29.0   1.0\n",
       "Hotel room          3.0   0.000706    0.0   NaN"
      ]
     },
     "execution_count": 149,
     "metadata": {},
     "output_type": "execute_result"
    }
   ],
   "source": [
    "## For Seattle\n",
    "room_type_s = summarize_by_room_type(listings_s)\n",
    "room_type_s"
   ]
  },
  {
   "cell_type": "code",
   "execution_count": 227,
   "id": "e5229da5-f879-4a17-95d8-020f149a4931",
   "metadata": {},
   "outputs": [
    {
     "data": {
      "text/html": [
       "<div>\n",
       "<style scoped>\n",
       "    .dataframe tbody tr th:only-of-type {\n",
       "        vertical-align: middle;\n",
       "    }\n",
       "\n",
       "    .dataframe tbody tr th {\n",
       "        vertical-align: top;\n",
       "    }\n",
       "\n",
       "    .dataframe thead th {\n",
       "        text-align: right;\n",
       "    }\n",
       "</style>\n",
       "<table border=\"1\" class=\"dataframe\">\n",
       "  <thead>\n",
       "    <tr style=\"text-align: right;\">\n",
       "      <th></th>\n",
       "      <th>boston_count</th>\n",
       "      <th>boston_propotion</th>\n",
       "      <th>boston_price</th>\n",
       "      <th>boston_beds</th>\n",
       "      <th>seattle_count</th>\n",
       "      <th>seattle_propotion</th>\n",
       "      <th>seattle_price</th>\n",
       "      <th>seattle_beds</th>\n",
       "    </tr>\n",
       "  </thead>\n",
       "  <tbody>\n",
       "    <tr>\n",
       "      <th>Entire home/apt</th>\n",
       "      <td>1971.0</td>\n",
       "      <td>0.631124</td>\n",
       "      <td>241.0</td>\n",
       "      <td>2.0</td>\n",
       "      <td>3501.0</td>\n",
       "      <td>0.823959</td>\n",
       "      <td>180.0</td>\n",
       "      <td>2.0</td>\n",
       "    </tr>\n",
       "    <tr>\n",
       "      <th>Private room</th>\n",
       "      <td>1115.0</td>\n",
       "      <td>0.357028</td>\n",
       "      <td>96.0</td>\n",
       "      <td>1.0</td>\n",
       "      <td>703.0</td>\n",
       "      <td>0.165451</td>\n",
       "      <td>84.0</td>\n",
       "      <td>1.0</td>\n",
       "    </tr>\n",
       "    <tr>\n",
       "      <th>Hotel room</th>\n",
       "      <td>25.0</td>\n",
       "      <td>0.008005</td>\n",
       "      <td>403.0</td>\n",
       "      <td>1.0</td>\n",
       "      <td>3.0</td>\n",
       "      <td>0.000706</td>\n",
       "      <td>0.0</td>\n",
       "      <td>NaN</td>\n",
       "    </tr>\n",
       "    <tr>\n",
       "      <th>Shared room</th>\n",
       "      <td>12.0</td>\n",
       "      <td>0.003842</td>\n",
       "      <td>123.0</td>\n",
       "      <td>1.0</td>\n",
       "      <td>42.0</td>\n",
       "      <td>0.009885</td>\n",
       "      <td>29.0</td>\n",
       "      <td>1.0</td>\n",
       "    </tr>\n",
       "  </tbody>\n",
       "</table>\n",
       "</div>"
      ],
      "text/plain": [
       "                 boston_count  boston_propotion  boston_price  boston_beds  \\\n",
       "Entire home/apt        1971.0          0.631124         241.0          2.0   \n",
       "Private room           1115.0          0.357028          96.0          1.0   \n",
       "Hotel room               25.0          0.008005         403.0          1.0   \n",
       "Shared room              12.0          0.003842         123.0          1.0   \n",
       "\n",
       "                 seattle_count  seattle_propotion  seattle_price  seattle_beds  \n",
       "Entire home/apt         3501.0           0.823959          180.0           2.0  \n",
       "Private room             703.0           0.165451           84.0           1.0  \n",
       "Hotel room                 3.0           0.000706            0.0           NaN  \n",
       "Shared room               42.0           0.009885           29.0           1.0  "
      ]
     },
     "execution_count": 227,
     "metadata": {},
     "output_type": "execute_result"
    }
   ],
   "source": [
    "# create a merge dataframe with data from both cities\n",
    "room_type_b.columns = [('boston_'+col) for col in room_type_b.columns.to_list()]\n",
    "room_type_s.columns = [('seattle_'+col) for col in room_type_s.columns.to_list()]\n",
    "room_type = room_type_b.join(room_type_s)\n",
    "room_type"
   ]
  },
  {
   "cell_type": "code",
   "execution_count": 274,
   "id": "13140c9a-1f86-4c28-bd72-445817bcfac4",
   "metadata": {},
   "outputs": [
    {
     "data": {
      "image/png": "[encoded data removed]",
      "text/plain": [
       "<Figure size 720x288 with 1 Axes>"
      ]
     },
     "metadata": {
      "needs_background": "light"
     },
     "output_type": "display_data"
    }
   ],
   "source": [
    "# plot 1: number of listings by room types\n",
    "# setup dataframe using the dict provided in the OP\n",
    "plot1 = room_type[['boston_count', 'seattle_count']].transpose()\n",
    "plot1.index = ['Boston', 'Seattle']\n",
    "ax = plot1.plot.barh(stacked=True, figsize=(10, 4))\n",
    "plt.legend(loc='best', bbox_to_anchor=(1.0, 0.5))\n",
    "plt.title('Fig1: Listings by Room Types in Seattle and Boston')\n",
    "plt.xlabel('Number of listings')\n",
    "\n",
    "# annotations:\n",
    "for c in ax.containers:\n",
    "    # format the number of decimal places and replace 0 with an empty string\n",
    "    labels = [f'{w:.0f}' if (w := v.get_width()) > 0 else '' for v in c ]\n",
    "    ax.bar_label(c, labels=labels, label_type='center')"
   ]
  },
  {
   "cell_type": "markdown",
   "id": "976a408a-0b08-489e-89bb-7b894410fee9",
   "metadata": {},
   "source": [
    "+ For both cities, there are only 4 types of rooms: `Entire home/apt`, `Private room`, `Shared room` and `Hotel`. <br>\n",
    "+ The majourity of the rentals are of the class `Entire home/apt` with around 63% of total rents in Boston and 82% of total rents in Seattle. <br>\n",
    "+ In costrast, there are not a lot of `Shared room` and `Hotel` available for rent in both cities. There are 25 hotels and 12 shared room can be found in AirBNB Boston and in Seattle, there are only 3 hotels and 42 shared rooms listed on AirBNB. "
   ]
  },
  {
   "cell_type": "code",
   "execution_count": 271,
   "id": "bd3f4312-ead9-4a2f-9ae4-5f40309c0224",
   "metadata": {},
   "outputs": [
    {
     "data": {
      "image/png": "[encoded data removed]",
      "text/plain": [
       "<Figure size 576x288 with 1 Axes>"
      ]
     },
     "metadata": {
      "needs_background": "light"
     },
     "output_type": "display_data"
    }
   ],
   "source": [
    "# plot 2: average price by room types\n",
    "# setup dataframe using the dict provided in the OP\n",
    "plot2 = room_type[['boston_price', 'seattle_price']]\n",
    "plot2.columns = ['Boston', 'Seattle']\n",
    "ax = plot2.plot.bar(stacked=False, figsize=(8, 4))\n",
    "plt.xticks(rotation=45)\n",
    "plt.legend(loc='upper right')\n",
    "plt.title('Fig2: Average price by Room Types in Seattle and Boston')\n",
    "plt.ylabel('Average price per night ($)')\n",
    "plt.xlabel(None)\n",
    "# annotations:\n",
    "for c in ax.containers:\n",
    "    ax.bar_label(c, label_type='center')"
   ]
  },
  {
   "cell_type": "markdown",
   "id": "0809dac4-58fc-48d7-83c6-ca64034afb24",
   "metadata": {},
   "source": [
    "+ Rental price in Boston are higher than in Seattle in general. An average house with 2 bedrooms in Boston will cost \\$$241\\/night, while it is only \\$180/night in Seattle, which is 34\\% higher. This coincides with the first guess for difference in rental rate based on total number of listings. \n",
    "\n",
    "+ Price gap for `Private Room` between the two cities are low, which is \\$$96 in Boston and \\$84 in Seattle\n",
    "+ Price for `Hotel Room` is missing and price of `Shared room` are rather too low, this is due to because of missing data for these type of listings in Seattle. "
   ]
  },
  {
   "cell_type": "code",
   "execution_count": null,
   "id": "745e17be-f760-48fa-b6d5-13c3dfd83a53",
   "metadata": {},
   "outputs": [],
   "source": []
  },
  {
   "cell_type": "markdown",
   "id": "555d706b-1eda-4cd7-b979-15a41df210db",
   "metadata": {
    "tags": []
   },
   "source": [
    "## 3. What are the areas where most rooms are listed for rent in each city?"
   ]
  },
  {
   "cell_type": "code",
   "execution_count": 268,
   "id": "49a1af1b-cd6a-4de2-9577-f88fe6b50f7a",
   "metadata": {},
   "outputs": [],
   "source": [
    "def summarize_by_neighbour():\n",
    "    # compute the proportions of listings by neighbours area in each city\n",
    "    def _compute_prop_by_neighbour(df):\n",
    "        neighbour = df['neighbourhood_cleansed'].value_counts().reset_index()\n",
    "        neighbour.rename(columns={'index': 'neighbourhood', 'neighbourhood_cleansed': 'proportion of total listings'}, inplace=True)\n",
    "        neighbour.set_index('neighbourhood', inplace=True)\n",
    "        props_neighbour_df = neighbour/neighbour.sum()\n",
    "        return props_neighbour_df\n",
    "    props_neighbour_b = _compute_prop_by_neighbour(listings_b)\n",
    "    props_neighbour_s = _compute_prop_by_neighbour(listings_s)\n",
    "    \n",
    "    # create Horizonal barchart size-by-size\n",
    "    city_numb=10\n",
    "    dfs = [props_neighbour_b, props_neighbour_s]\n",
    "    subtit = [f'Top{city_numb} Neighbourhood Areas in {city}' for city in ['Boston', 'Seattle']]\n",
    "    # Visualize\n",
    "    fig, ax = plt.subplots(nrows = 1, ncols = 2, figsize = (15, 6))\n",
    "    fig.tight_layout(pad=13)\n",
    "    colours = ['c', 'orange']\n",
    "    for c, df in enumerate(dfs):\n",
    "        df.head(city_numb).sort_values(by='proportion of total listings', ascending=True).plot(kind='barh', title = subtit[c], \n",
    "                                                                        legend=True, ax = ax[c], color=colours[c])\n",
    "    plt.show()"
   ]
  },
  {
   "cell_type": "code",
   "execution_count": 269,
   "id": "af48b737-bc17-4485-b80a-d50216964cfa",
   "metadata": {},
   "outputs": [
    {
     "data": {
      "image/png": "[encoded data removed]",
      "text/plain": [
       "<Figure size 1080x432 with 2 Axes>"
      ]
     },
     "metadata": {
      "needs_background": "light"
     },
     "output_type": "display_data"
    }
   ],
   "source": [
    "summarize_by_neighbour()"
   ]
  },
  {
   "cell_type": "markdown",
   "id": "92ed020b-6fde-4fa3-8adf-124b21908962",
   "metadata": {},
   "source": [
    "The listings are more concentrated in Boston, where nearly 25% of the total listings are in the top2 neighbourhoods Dorchester and Downtown. <br>\n",
    "While listings are less concentrated in Seattle, where top2 neighbours Belltown and Broadway only accounts for 12% of total listings."
   ]
  },
  {
   "cell_type": "code",
   "execution_count": null,
   "id": "a5ed89f0-7e90-4028-9de0-2154e00acff2",
   "metadata": {},
   "outputs": [],
   "source": []
  },
  {
   "cell_type": "code",
   "execution_count": null,
   "id": "09dea5c5-cb99-4f6c-a5d8-b294e19b732a",
   "metadata": {},
   "outputs": [],
   "source": []
  }
 ],
 "metadata": {
  "kernelspec": {
   "display_name": "ml",
   "language": "python",
   "name": "ml"
  },
  "language_info": {
   "codemirror_mode": {
    "name": "ipython",
    "version": 3
   },
   "file_extension": ".py",
   "mimetype": "text/x-python",
   "name": "python",
   "nbconvert_exporter": "python",
   "pygments_lexer": "ipython3",
   "version": "3.9.7"
  }
 },
 "nbformat": 4,
 "nbformat_minor": 5
}
