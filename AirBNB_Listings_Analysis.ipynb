{
 "cells": [
  {
   "cell_type": "markdown",
   "id": "acfc4152-581c-4edd-a126-05a8903b42b8",
   "metadata": {
    "tags": []
   },
   "source": [
    "# AirBNB Listings Analysis for Boston and Seattle\n",
    "Author: Thuy Trinh <br>\n",
    "Date: 08 Oct 2021 <br>\n",
    "\n",
    "**Objective**: \n",
    "1. Preprocessing data\n",
    "2. Exploring dataset\n",
    "3. Deliver insights"
   ]
  },
  {
   "cell_type": "code",
   "execution_count": 7,
   "id": "c8087389-b3fd-48b2-9c8d-d796bcbf24c9",
   "metadata": {},
   "outputs": [],
   "source": [
    "# import packages\n",
    "import pandas as pd\n",
    "import matplotlib.pyplot as plt"
   ]
  },
  {
   "cell_type": "code",
   "execution_count": 2,
   "id": "965adf85-c828-413a-ac82-fb86f63ce366",
   "metadata": {},
   "outputs": [],
   "source": [
    "# import data\n",
    "# boston\n",
    "calendar_b = pd.read_csv('data/raw/boston/calendar.csv')\n",
    "listings_b = pd.read_csv('data/raw/boston/listings.csv')\n",
    "reviews_b = pd.read_csv('data/raw/boston/reviews.csv')\n",
    "# seattle\n",
    "calendar_s = pd.read_csv('data/raw/seattle/calendar.csv')\n",
    "listings_s = pd.read_csv('data/raw/seattle/listings.csv')\n",
    "reviews_s = pd.read_csv('data/raw/seattle/reviews.csv')"
   ]
  },
  {
   "cell_type": "markdown",
   "id": "e39a91e8-aed7-45bd-bd9b-5f3cc959cd4c",
   "metadata": {},
   "source": [
    "## Question 1: General characteristics for rental market in the two cities:"
   ]
  },
  {
   "cell_type": "markdown",
   "id": "75dee1c3-6fbb-4dea-a739-9dccab9298f6",
   "metadata": {},
   "source": [
    "### 1.1. What is the total number of rooms available for rent listed in AirBNB at the time of data collection? "
   ]
  },
  {
   "cell_type": "code",
   "execution_count": 27,
   "id": "72838c90-ba93-4e10-9590-29cbc76593d4",
   "metadata": {},
   "outputs": [
    {
     "name": "stdout",
     "output_type": "stream",
     "text": [
      "As of 2016-09-07, there are 3585 rooms in Boston listed for rent in AirBNB\n",
      "As of 2016-01-04, there are 3818 rooms in Seattle listed for rent in AirBNB\n"
     ]
    }
   ],
   "source": [
    "## For Boston\n",
    "# find the time of data collection\n",
    "collection_date_b = listings_b.last_scraped.unique()[0]\n",
    "# find the total number of rooms avaiable\n",
    "nb_rooms_b = len(listings_b.id.unique())\n",
    "\n",
    "## For Seattle\n",
    "# find the time of data collection\n",
    "collection_date_s = listings_s.last_scraped.unique()[0]\n",
    "# find the total number of rooms avaiable\n",
    "nb_rooms_s = len(listings_s.id.unique())\n",
    "\n",
    "## print results\n",
    "print(f'As of {collection_date_b}, there are {nb_rooms_b} rooms in Boston listed for rent in AirBNB')\n",
    "print(f'As of {collection_date_s}, there are {nb_rooms_s} rooms in Seattle listed for rent in AirBNB')"
   ]
  },
  {
   "cell_type": "code",
   "execution_count": null,
   "id": "a67a79ca-f46a-4120-accd-d8eb59026d4b",
   "metadata": {},
   "outputs": [],
   "source": []
  },
  {
   "cell_type": "markdown",
   "id": "8ffa9845-b0bf-46fd-a16c-2150b70bc412",
   "metadata": {},
   "source": [
    "## 1.2. What type of rooms are offered? Which types are most popular? What are the average rental rate for each type?"
   ]
  },
  {
   "cell_type": "code",
   "execution_count": 76,
   "id": "491cdd81-d36b-499a-bda3-ca3f4428f150",
   "metadata": {},
   "outputs": [
    {
     "data": {
      "text/html": [
       "<div>\n",
       "<style scoped>\n",
       "    .dataframe tbody tr th:only-of-type {\n",
       "        vertical-align: middle;\n",
       "    }\n",
       "\n",
       "    .dataframe tbody tr th {\n",
       "        vertical-align: top;\n",
       "    }\n",
       "\n",
       "    .dataframe thead th {\n",
       "        text-align: right;\n",
       "    }\n",
       "</style>\n",
       "<table border=\"1\" class=\"dataframe\">\n",
       "  <thead>\n",
       "    <tr style=\"text-align: right;\">\n",
       "      <th></th>\n",
       "      <th>boston_count</th>\n",
       "      <th>boston_percentage</th>\n",
       "    </tr>\n",
       "  </thead>\n",
       "  <tbody>\n",
       "    <tr>\n",
       "      <th>Entire home/apt</th>\n",
       "      <td>2127.0</td>\n",
       "      <td>0.593305</td>\n",
       "    </tr>\n",
       "    <tr>\n",
       "      <th>Private room</th>\n",
       "      <td>1378.0</td>\n",
       "      <td>0.384379</td>\n",
       "    </tr>\n",
       "    <tr>\n",
       "      <th>Shared room</th>\n",
       "      <td>80.0</td>\n",
       "      <td>0.022315</td>\n",
       "    </tr>\n",
       "  </tbody>\n",
       "</table>\n",
       "</div>"
      ],
      "text/plain": [
       "                 boston_count  boston_percentage\n",
       "Entire home/apt        2127.0           0.593305\n",
       "Private room           1378.0           0.384379\n",
       "Shared room              80.0           0.022315"
      ]
     },
     "execution_count": 76,
     "metadata": {},
     "output_type": "execute_result"
    }
   ],
   "source": [
    "## For Boston\n",
    "room_type_b_count = listings_b.room_type.value_counts()\n",
    "room_type_b_perct = room_type_b_count/listings_b.shape[0]\n",
    "room_type_b = pd.DataFrame([room_type_b_count, room_type_b_perct], index=['boston_count', 'boston_percentage']).transpose()\n",
    "room_type_b"
   ]
  },
  {
   "cell_type": "code",
   "execution_count": 73,
   "id": "24a01452-7bc3-4e87-ac1d-2c313a6f39e7",
   "metadata": {
    "tags": []
   },
   "outputs": [
    {
     "data": {
      "text/html": [
       "<div>\n",
       "<style scoped>\n",
       "    .dataframe tbody tr th:only-of-type {\n",
       "        vertical-align: middle;\n",
       "    }\n",
       "\n",
       "    .dataframe tbody tr th {\n",
       "        vertical-align: top;\n",
       "    }\n",
       "\n",
       "    .dataframe thead th {\n",
       "        text-align: right;\n",
       "    }\n",
       "</style>\n",
       "<table border=\"1\" class=\"dataframe\">\n",
       "  <thead>\n",
       "    <tr style=\"text-align: right;\">\n",
       "      <th></th>\n",
       "      <th>price_numb</th>\n",
       "      <th>beds</th>\n",
       "    </tr>\n",
       "    <tr>\n",
       "      <th>room_type</th>\n",
       "      <th></th>\n",
       "      <th></th>\n",
       "    </tr>\n",
       "  </thead>\n",
       "  <tbody>\n",
       "    <tr>\n",
       "      <th>Entire home/apt</th>\n",
       "      <td>227.0</td>\n",
       "      <td>2.0</td>\n",
       "    </tr>\n",
       "    <tr>\n",
       "      <th>Private room</th>\n",
       "      <td>96.0</td>\n",
       "      <td>1.0</td>\n",
       "    </tr>\n",
       "    <tr>\n",
       "      <th>Shared room</th>\n",
       "      <td>93.0</td>\n",
       "      <td>1.0</td>\n",
       "    </tr>\n",
       "  </tbody>\n",
       "</table>\n",
       "</div>"
      ],
      "text/plain": [
       "                 price_numb  beds\n",
       "room_type                        \n",
       "Entire home/apt       227.0   2.0\n",
       "Private room           96.0   1.0\n",
       "Shared room            93.0   1.0"
      ]
     },
     "execution_count": 73,
     "metadata": {},
     "output_type": "execute_result"
    }
   ],
   "source": [
    "# compute average price per room type\n",
    "# create new columns with `price` as numerical value by removing the $ sign\n",
    "def convert_text_to_float(text):\n",
    "    # removing the $ and , characters\n",
    "    currency_char = '$,'\n",
    "    for char in currency_char:\n",
    "        text = text.replace(char, '')\n",
    "    # return the text as float\n",
    "    return float(text)\n",
    "listings_b['price_numb'] = listings_b['price'].apply(convert_text_to_float)\n",
    "room_type_price = listings_b[['room_type', 'price_numb', 'beds']].groupby(['room_type']).mean().round(0)\n",
    "room_type_price"
   ]
  },
  {
   "cell_type": "code",
   "execution_count": 77,
   "id": "ade88983-2510-4c1b-8cac-d7c866bc4aa8",
   "metadata": {},
   "outputs": [
    {
     "data": {
      "text/html": [
       "<div>\n",
       "<style scoped>\n",
       "    .dataframe tbody tr th:only-of-type {\n",
       "        vertical-align: middle;\n",
       "    }\n",
       "\n",
       "    .dataframe tbody tr th {\n",
       "        vertical-align: top;\n",
       "    }\n",
       "\n",
       "    .dataframe thead th {\n",
       "        text-align: right;\n",
       "    }\n",
       "</style>\n",
       "<table border=\"1\" class=\"dataframe\">\n",
       "  <thead>\n",
       "    <tr style=\"text-align: right;\">\n",
       "      <th></th>\n",
       "      <th>boston_count</th>\n",
       "      <th>boston_percentage</th>\n",
       "      <th>price_numb</th>\n",
       "      <th>beds</th>\n",
       "    </tr>\n",
       "  </thead>\n",
       "  <tbody>\n",
       "    <tr>\n",
       "      <th>Entire home/apt</th>\n",
       "      <td>2127.0</td>\n",
       "      <td>0.593305</td>\n",
       "      <td>227.0</td>\n",
       "      <td>2.0</td>\n",
       "    </tr>\n",
       "    <tr>\n",
       "      <th>Private room</th>\n",
       "      <td>1378.0</td>\n",
       "      <td>0.384379</td>\n",
       "      <td>96.0</td>\n",
       "      <td>1.0</td>\n",
       "    </tr>\n",
       "    <tr>\n",
       "      <th>Shared room</th>\n",
       "      <td>80.0</td>\n",
       "      <td>0.022315</td>\n",
       "      <td>93.0</td>\n",
       "      <td>1.0</td>\n",
       "    </tr>\n",
       "  </tbody>\n",
       "</table>\n",
       "</div>"
      ],
      "text/plain": [
       "                 boston_count  boston_percentage  price_numb  beds\n",
       "Entire home/apt        2127.0           0.593305       227.0   2.0\n",
       "Private room           1378.0           0.384379        96.0   1.0\n",
       "Shared room              80.0           0.022315        93.0   1.0"
      ]
     },
     "execution_count": 77,
     "metadata": {},
     "output_type": "execute_result"
    }
   ],
   "source": [
    "room_type_b = room_type_b.join(room_type_price)\n",
    "room_type_b"
   ]
  },
  {
   "cell_type": "code",
   "execution_count": 40,
   "id": "f3dde70e-bacb-4805-a0f9-998afec0bffa",
   "metadata": {},
   "outputs": [
    {
     "data": {
      "text/html": [
       "<div>\n",
       "<style scoped>\n",
       "    .dataframe tbody tr th:only-of-type {\n",
       "        vertical-align: middle;\n",
       "    }\n",
       "\n",
       "    .dataframe tbody tr th {\n",
       "        vertical-align: top;\n",
       "    }\n",
       "\n",
       "    .dataframe thead th {\n",
       "        text-align: right;\n",
       "    }\n",
       "</style>\n",
       "<table border=\"1\" class=\"dataframe\">\n",
       "  <thead>\n",
       "    <tr style=\"text-align: right;\">\n",
       "      <th></th>\n",
       "      <th>seattle_count</th>\n",
       "      <th>seattle_percentage</th>\n",
       "    </tr>\n",
       "  </thead>\n",
       "  <tbody>\n",
       "    <tr>\n",
       "      <th>Entire home/apt</th>\n",
       "      <td>2541.0</td>\n",
       "      <td>0.708787</td>\n",
       "    </tr>\n",
       "    <tr>\n",
       "      <th>Private room</th>\n",
       "      <td>1160.0</td>\n",
       "      <td>0.323570</td>\n",
       "    </tr>\n",
       "    <tr>\n",
       "      <th>Shared room</th>\n",
       "      <td>117.0</td>\n",
       "      <td>0.032636</td>\n",
       "    </tr>\n",
       "  </tbody>\n",
       "</table>\n",
       "</div>"
      ],
      "text/plain": [
       "                 seattle_count  seattle_percentage\n",
       "Entire home/apt         2541.0            0.708787\n",
       "Private room            1160.0            0.323570\n",
       "Shared room              117.0            0.032636"
      ]
     },
     "execution_count": 40,
     "metadata": {},
     "output_type": "execute_result"
    }
   ],
   "source": [
    "## For Seattle\n",
    "room_type_s_count = listings_s.room_type.value_counts()\n",
    "room_type_s_perct = room_type_s_count/listings_b.shape[0]\n",
    "room_type_s = pd.DataFrame([room_type_s_count, room_type_s_perct], index=['seattle_count', 'seattle_percentage']).transpose()\n",
    "room_type_s"
   ]
  },
  {
   "cell_type": "code",
   "execution_count": 78,
   "id": "22f3d4fd-757c-42da-851b-c8f415d93dce",
   "metadata": {},
   "outputs": [
    {
     "data": {
      "text/html": [
       "<div>\n",
       "<style scoped>\n",
       "    .dataframe tbody tr th:only-of-type {\n",
       "        vertical-align: middle;\n",
       "    }\n",
       "\n",
       "    .dataframe tbody tr th {\n",
       "        vertical-align: top;\n",
       "    }\n",
       "\n",
       "    .dataframe thead th {\n",
       "        text-align: right;\n",
       "    }\n",
       "</style>\n",
       "<table border=\"1\" class=\"dataframe\">\n",
       "  <thead>\n",
       "    <tr style=\"text-align: right;\">\n",
       "      <th></th>\n",
       "      <th>seattle_count</th>\n",
       "      <th>seattle_percentage</th>\n",
       "      <th>price_numb</th>\n",
       "      <th>beds</th>\n",
       "    </tr>\n",
       "  </thead>\n",
       "  <tbody>\n",
       "    <tr>\n",
       "      <th>Entire home/apt</th>\n",
       "      <td>2541.0</td>\n",
       "      <td>0.708787</td>\n",
       "      <td>156.0</td>\n",
       "      <td>2.0</td>\n",
       "    </tr>\n",
       "    <tr>\n",
       "      <th>Private room</th>\n",
       "      <td>1160.0</td>\n",
       "      <td>0.323570</td>\n",
       "      <td>75.0</td>\n",
       "      <td>1.0</td>\n",
       "    </tr>\n",
       "    <tr>\n",
       "      <th>Shared room</th>\n",
       "      <td>117.0</td>\n",
       "      <td>0.032636</td>\n",
       "      <td>48.0</td>\n",
       "      <td>1.0</td>\n",
       "    </tr>\n",
       "  </tbody>\n",
       "</table>\n",
       "</div>"
      ],
      "text/plain": [
       "                 seattle_count  seattle_percentage  price_numb  beds\n",
       "Entire home/apt         2541.0            0.708787       156.0   2.0\n",
       "Private room            1160.0            0.323570        75.0   1.0\n",
       "Shared room              117.0            0.032636        48.0   1.0"
      ]
     },
     "execution_count": 78,
     "metadata": {},
     "output_type": "execute_result"
    }
   ],
   "source": [
    "listings_s['price_numb'] = listings_s['price'].apply(convert_text_to_float)\n",
    "room_type_price = listings_s[['room_type', 'price_numb', 'beds']].groupby(['room_type']).mean().round(0)\n",
    "room_type_s = room_type_s.join(room_type_price)\n",
    "room_type_s"
   ]
  },
  {
   "cell_type": "markdown",
   "id": "0809dac4-58fc-48d7-83c6-ca64034afb24",
   "metadata": {},
   "source": [
    "+ For both cities, there are only 3 types of rooms: `Entire home/apt`, `Private room` and `Shared room`. <br>\n",
    "+ The majourity of the rentals are of the class `Entire home/apt` with around 60% of total rents in Boston and 71% of total rents in Seattle. <br>\n",
    "+ In costrast, there are not a lot of `Shared room` available for rent in both cities, only 2% and 3% of total rents are share rooms in Boston and Seattle respectively.  \n",
    "+ Rental price in Boston are much higher than in Seattle. An average house with 2 bedrooms in Boston will cost $227/night, while it's only $156/night in Seattle, which is 45% higher. Notablly, price of share room in Boston cost nearly twice as much of the cost in Seattle.    "
   ]
  }
 ],
 "metadata": {
  "kernelspec": {
   "display_name": "ml",
   "language": "python",
   "name": "ml"
  },
  "language_info": {
   "codemirror_mode": {
    "name": "ipython",
    "version": 3
   },
   "file_extension": ".py",
   "mimetype": "text/x-python",
   "name": "python",
   "nbconvert_exporter": "python",
   "pygments_lexer": "ipython3",
   "version": "3.9.7"
  }
 },
 "nbformat": 4,
 "nbformat_minor": 5
}
